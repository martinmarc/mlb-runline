{
 "nbformat": 4,
 "nbformat_minor": 0,
 "metadata": {
  "colab": {
   "provenance": []
  },
  "kernelspec": {
   "name": "python3",
   "language": "python",
   "display_name": "Python 3 (ipykernel)"
  },
  "language_info": {
   "name": "python"
  }
 },
 "cells": [
  {
   "cell_type": "markdown",
   "source": [
    "**Install Packages**"
   ],
   "metadata": {
    "id": "Si6oYuigEsWJ"
   }
  },
  {
   "cell_type": "code",
   "execution_count": null,
   "metadata": {
    "id": "-AV9WzDzEcTt"
   },
   "outputs": [],
   "source": [
    "!pip install pycaret\n",
    "!pip install mysql-connector-python\n",
    "!pip install sqlalchemy==1.4.32\n",
    "!pip install MLB-StatsAPI"
   ]
  },
  {
   "cell_type": "markdown",
   "source": [
    "**Import Packages**"
   ],
   "metadata": {
    "id": "AL_lGnkTE7af"
   }
  },
  {
   "cell_type": "code",
   "source": [
    "import pycaret\n",
    "import pandas as pd\n",
    "import numpy as np\n",
    "import sqlalchemy\n",
    "import mysql.connector\n",
    "import sys\n",
    "import requests\n",
    "import statsapi\n",
    "from constants import API_KEY, database_name, sql_hostname\n",
    "\n",
    "from pycaret import classification\n",
    "from datetime import datetime\n",
    "# from google.colab.data_table import DataTable\n",
    "# from google.colab import files\n",
    "# from google.colab import drive\n",
    "\n",
    "# sys.path.append(\"/content/drive/MyDrive\")\n",
    "#\n",
    "# drive.mount('/content/drive')\n",
    "\n",
    "def odds_calculator(probability):\n",
    "\n",
    "    return round(-100 / ((1/probability)-1))"
   ],
   "metadata": {
    "id": "N3dnZwMJFEe5"
   },
   "execution_count": 55,
   "outputs": []
  },
  {
   "cell_type": "markdown",
   "source": [
    "**Import Data**"
   ],
   "metadata": {
    "id": "Bx0rUFJ1FraV"
   }
  },
  {
   "cell_type": "code",
   "source": [
    "\n",
    "engine = sqlalchemy.create_engine(f'{sql_hostname}/{database_name}')\n",
    "\n",
    "Raw_Dataset = pd.read_sql(sql = \"SELECT * FROM baseball_spread_production\", con = engine).set_index(\"game_datetime\").reset_index()[[\"game_datetime\", \"team_1\",\t\"team_1_spread_odds\",\t\"team_2\",\t\"team_2_spread_odds\",\t\"venue_name\"]]\n",
    "\n",
    "print(len(Raw_Dataset))"
   ],
   "metadata": {
    "id": "4nMUvN_HFvoi"
   },
   "execution_count": 56,
   "outputs": [
    {
     "name": "stdout",
     "output_type": "stream",
     "text": [
      "5\n"
     ]
    }
   ]
  },
  {
   "cell_type": "code",
   "source": [
    "Raw_Dataset"
   ],
   "metadata": {
    "id": "8-tmvY2cagZd"
   },
   "execution_count": 57,
   "outputs": [
    {
     "data": {
      "text/plain": "        game_datetime                team_1  team_1_spread_odds  \\\n0 2023-08-13 16:05:00        Boston Red Sox                -115   \n1 2023-08-13 17:35:00  Washington Nationals                 130   \n2 2023-08-13 17:40:00      New York Yankees                -120   \n3 2023-08-13 20:10:00   Los Angeles Dodgers                -125   \n4 2023-08-13 23:10:00        Atlanta Braves                 114   \n\n              team_2  team_2_spread_odds      venue_name  \n0     Detroit Tigers                -115     Fenway Park  \n1  Oakland Athletics                -166  Nationals Park  \n2      Miami Marlins                -110  loanDepot park  \n3   Colorado Rockies                -105  Dodger Stadium  \n4      New York Mets                -135      Citi Field  ",
      "text/html": "<div>\n<style scoped>\n    .dataframe tbody tr th:only-of-type {\n        vertical-align: middle;\n    }\n\n    .dataframe tbody tr th {\n        vertical-align: top;\n    }\n\n    .dataframe thead th {\n        text-align: right;\n    }\n</style>\n<table border=\"1\" class=\"dataframe\">\n  <thead>\n    <tr style=\"text-align: right;\">\n      <th></th>\n      <th>game_datetime</th>\n      <th>team_1</th>\n      <th>team_1_spread_odds</th>\n      <th>team_2</th>\n      <th>team_2_spread_odds</th>\n      <th>venue_name</th>\n    </tr>\n  </thead>\n  <tbody>\n    <tr>\n      <th>0</th>\n      <td>2023-08-13 16:05:00</td>\n      <td>Boston Red Sox</td>\n      <td>-115</td>\n      <td>Detroit Tigers</td>\n      <td>-115</td>\n      <td>Fenway Park</td>\n    </tr>\n    <tr>\n      <th>1</th>\n      <td>2023-08-13 17:35:00</td>\n      <td>Washington Nationals</td>\n      <td>130</td>\n      <td>Oakland Athletics</td>\n      <td>-166</td>\n      <td>Nationals Park</td>\n    </tr>\n    <tr>\n      <th>2</th>\n      <td>2023-08-13 17:40:00</td>\n      <td>New York Yankees</td>\n      <td>-120</td>\n      <td>Miami Marlins</td>\n      <td>-110</td>\n      <td>loanDepot park</td>\n    </tr>\n    <tr>\n      <th>3</th>\n      <td>2023-08-13 20:10:00</td>\n      <td>Los Angeles Dodgers</td>\n      <td>-125</td>\n      <td>Colorado Rockies</td>\n      <td>-105</td>\n      <td>Dodger Stadium</td>\n    </tr>\n    <tr>\n      <th>4</th>\n      <td>2023-08-13 23:10:00</td>\n      <td>Atlanta Braves</td>\n      <td>114</td>\n      <td>New York Mets</td>\n      <td>-135</td>\n      <td>Citi Field</td>\n    </tr>\n  </tbody>\n</table>\n</div>"
     },
     "execution_count": 57,
     "metadata": {},
     "output_type": "execute_result"
    }
   ]
  },
  {
   "cell_type": "markdown",
   "source": [
    "### **Load Models**"
   ],
   "metadata": {
    "id": "9P_9ThrHGyPd"
   }
  },
  {
   "cell_type": "code",
   "source": [
    "#Finalized_Model_save_to_file_string = f\"2023-07-22 Baseball Spread\"\n",
    "Finalized_Model_save_to_file_string = f\"{datetime.today().strftime('%Y-%m-%d')}_Baseball_Spread_model_nb\"\n",
    "\n",
    "Classification_Model = pycaret.classification.load_model(f\"./models/{Finalized_Model_save_to_file_string}\")\n",
    "\n",
    "print(Finalized_Model_save_to_file_string)"
   ],
   "metadata": {
    "id": "-j2zDCd7Y_8z"
   },
   "execution_count": 58,
   "outputs": [
    {
     "name": "stdout",
     "output_type": "stream",
     "text": [
      "Transformation Pipeline and Model Successfully Loaded\n",
      "2023-08-13_Baseball_Spread_model_nb\n"
     ]
    }
   ]
  },
  {
   "cell_type": "markdown",
   "source": [
    "### **Get Predictions of Day**"
   ],
   "metadata": {
    "id": "L6GgjUXpTQCv"
   }
  },
  {
   "cell_type": "code",
   "source": [
    "Prediction = pycaret.classification.predict_model(estimator = Classification_Model, data = Raw_Dataset)"
   ],
   "metadata": {
    "id": "e-Djt_9BTVrd"
   },
   "execution_count": 59,
   "outputs": []
  },
  {
   "cell_type": "code",
   "source": [
    "Prediction[\"theo_odds\"] = Prediction[\"prediction_score\"].apply(odds_calculator)"
   ],
   "metadata": {
    "id": "KyvX6ywuOlDp"
   },
   "execution_count": 60,
   "outputs": []
  },
  {
   "cell_type": "code",
   "source": [
    "Prediction[[\"team_1\", \"team_2\",\"prediction_label\",\"prediction_score\", \"theo_odds\"]].sort_values(by = \"prediction_score\", ascending = False)"
   ],
   "metadata": {
    "id": "km4EQOOOZ7tI"
   },
   "execution_count": 61,
   "outputs": [
    {
     "data": {
      "text/plain": "                 team_1             team_2  prediction_label  \\\n3   Los Angeles Dodgers   Colorado Rockies                 1   \n0        Boston Red Sox     Detroit Tigers                 1   \n4        Atlanta Braves      New York Mets                 0   \n2      New York Yankees      Miami Marlins                 1   \n1  Washington Nationals  Oakland Athletics                 1   \n\n   prediction_score  theo_odds  \n3            0.7972       -393  \n0            0.7519       -303  \n4            0.6721       -205  \n2            0.6465       -183  \n1            0.5233       -110  ",
      "text/html": "<div>\n<style scoped>\n    .dataframe tbody tr th:only-of-type {\n        vertical-align: middle;\n    }\n\n    .dataframe tbody tr th {\n        vertical-align: top;\n    }\n\n    .dataframe thead th {\n        text-align: right;\n    }\n</style>\n<table border=\"1\" class=\"dataframe\">\n  <thead>\n    <tr style=\"text-align: right;\">\n      <th></th>\n      <th>team_1</th>\n      <th>team_2</th>\n      <th>prediction_label</th>\n      <th>prediction_score</th>\n      <th>theo_odds</th>\n    </tr>\n  </thead>\n  <tbody>\n    <tr>\n      <th>3</th>\n      <td>Los Angeles Dodgers</td>\n      <td>Colorado Rockies</td>\n      <td>1</td>\n      <td>0.7972</td>\n      <td>-393</td>\n    </tr>\n    <tr>\n      <th>0</th>\n      <td>Boston Red Sox</td>\n      <td>Detroit Tigers</td>\n      <td>1</td>\n      <td>0.7519</td>\n      <td>-303</td>\n    </tr>\n    <tr>\n      <th>4</th>\n      <td>Atlanta Braves</td>\n      <td>New York Mets</td>\n      <td>0</td>\n      <td>0.6721</td>\n      <td>-205</td>\n    </tr>\n    <tr>\n      <th>2</th>\n      <td>New York Yankees</td>\n      <td>Miami Marlins</td>\n      <td>1</td>\n      <td>0.6465</td>\n      <td>-183</td>\n    </tr>\n    <tr>\n      <th>1</th>\n      <td>Washington Nationals</td>\n      <td>Oakland Athletics</td>\n      <td>1</td>\n      <td>0.5233</td>\n      <td>-110</td>\n    </tr>\n  </tbody>\n</table>\n</div>"
     },
     "execution_count": 61,
     "metadata": {},
     "output_type": "execute_result"
    }
   ]
  },
  {
   "cell_type": "code",
   "execution_count": null,
   "outputs": [],
   "source": [],
   "metadata": {
    "collapsed": false
   }
  }
 ]
}
